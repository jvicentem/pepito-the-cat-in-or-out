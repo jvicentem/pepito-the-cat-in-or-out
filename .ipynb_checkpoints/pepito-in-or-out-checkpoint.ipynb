{
 "cells": [
  {
   "cell_type": "markdown",
   "metadata": {},
   "source": [
    "Hi! The purpose of this project is to detect when Pépito (https://twitter.com/PepitoTheCat) is leaving or when Pépito is back at home."
   ]
  },
  {
   "cell_type": "markdown",
   "metadata": {},
   "source": [
    "I've downloaded all the images posted from his Twitter account (up to this date: 2018/06/06). There are 10,041 images plus another 227 images that I'm not gonna use since they have a different resolution (I want to keep this simple, at least for now that I'm starting). I'm not uploading the images to the GitHub repo, but if you want them ask me and I'll find a way to publish them!"
   ]
  },
  {
   "cell_type": "markdown",
   "metadata": {},
   "source": [
    "## Data exploration"
   ]
  },
  {
   "cell_type": "code",
   "execution_count": 1,
   "metadata": {},
   "outputs": [],
   "source": [
    "# Specially check for how unbalanced classes are\n",
    "import pandas as pd"
   ]
  },
  {
   "cell_type": "code",
   "execution_count": 2,
   "metadata": {},
   "outputs": [],
   "source": [
    "labelled_images = pd.read_csv('./data/labeled_images.csv')"
   ]
  },
  {
   "cell_type": "code",
   "execution_count": 10,
   "metadata": {},
   "outputs": [
    {
     "data": {
      "text/html": [
       "<div>\n",
       "<style>\n",
       "    .dataframe thead tr:only-child th {\n",
       "        text-align: right;\n",
       "    }\n",
       "\n",
       "    .dataframe thead th {\n",
       "        text-align: left;\n",
       "    }\n",
       "\n",
       "    .dataframe tbody tr th {\n",
       "        vertical-align: top;\n",
       "    }\n",
       "</style>\n",
       "<table border=\"1\" class=\"dataframe\">\n",
       "  <thead>\n",
       "    <tr style=\"text-align: right;\">\n",
       "      <th></th>\n",
       "      <th>img_name</th>\n",
       "    </tr>\n",
       "    <tr>\n",
       "      <th>label</th>\n",
       "      <th></th>\n",
       "    </tr>\n",
       "  </thead>\n",
       "  <tbody>\n",
       "    <tr>\n",
       "      <th>home</th>\n",
       "      <td>5762</td>\n",
       "    </tr>\n",
       "    <tr>\n",
       "      <th>out</th>\n",
       "      <td>4279</td>\n",
       "    </tr>\n",
       "  </tbody>\n",
       "</table>\n",
       "</div>"
      ],
      "text/plain": [
       "       img_name\n",
       "label          \n",
       "home       5762\n",
       "out        4279"
      ]
     },
     "execution_count": 10,
     "metadata": {},
     "output_type": "execute_result"
    }
   ],
   "source": [
    "label_count = labelled_images.groupby('label').count()[['img_name']]\n",
    "label_count"
   ]
  },
  {
   "cell_type": "code",
   "execution_count": 31,
   "metadata": {},
   "outputs": [
    {
     "name": "stdout",
     "output_type": "stream",
     "text": [
      "prct home labels: 57.282\n"
     ]
    }
   ],
   "source": [
    "print('prct home labels: %.3f' % ( (5762 / (5762+4297)) * 100) )"
   ]
  },
  {
   "cell_type": "code",
   "execution_count": 26,
   "metadata": {},
   "outputs": [
    {
     "name": "stdout",
     "output_type": "stream",
     "text": [
      "prct home labels: 42.539\n"
     ]
    }
   ],
   "source": [
    "print('prct home labels: %.3f' % ( (4279 / (5762+4297)) * 100) )"
   ]
  },
  {
   "cell_type": "markdown",
   "metadata": {},
   "source": [
    "Classes are not too unbalanced. But I think this shows possible bot problems, because it means there are consecutive classes and that shouldn't be possible because if Pépito leaves there's no way he can leave home again, he must have gotten back home before. Anyway, I'm sure there are other reason I don't know."
   ]
  },
  {
   "cell_type": "markdown",
   "metadata": {},
   "source": [
    "## Data splitting"
   ]
  },
  {
   "cell_type": "code",
   "execution_count": 32,
   "metadata": {},
   "outputs": [],
   "source": [
    "from sklearn.utils import shuffle\n",
    "labelled_images = shuffle(labelled_images)"
   ]
  },
  {
   "cell_type": "code",
   "execution_count": 33,
   "metadata": {},
   "outputs": [
    {
     "name": "stderr",
     "output_type": "stream",
     "text": [
      "/home/jose/anaconda3/envs/intro/lib/python3.5/site-packages/sklearn/model_selection/_split.py:2026: FutureWarning: From version 0.21, test_size will always complement train_size unless both are specified.\n",
      "  FutureWarning)\n"
     ]
    }
   ],
   "source": [
    "from sklearn.model_selection import train_test_split\n",
    "\n",
    "data_x = labelled_images[['img_name']]\n",
    "data_y = labelled_images[['label']]\n",
    "\n",
    "train_x, test_x, train_y, test_y = train_test_split(data_x, data_y, train_size=0.8, random_state=16121993, stratify = data_y.get_values())\n",
    "dev_x, test_x, dev_y, test_y = train_test_split(test_x, test_y, train_size=0.5, random_state=16121993, stratify = test_y)\n",
    "train_x, train_dev_x, train_y, train_dev_y = train_test_split(train_x, train_y, train_size=0.9, random_state=16121993, stratify = train_y)"
   ]
  },
  {
   "cell_type": "markdown",
   "metadata": {},
   "source": [
    "After thinking about this, I'm gonna mix day and night pics and see how the model works. In case it doesn't work (among many other things) it would be worth it to pay more attention to this and make the train and dev splits to be as similar as possible.\n",
    "\n",
    "I assume (I haven't checked every picture, sorry) the camera is fixed and its angle doesn't change."
   ]
  },
  {
   "cell_type": "markdown",
   "metadata": {},
   "source": [
    "## Modelling"
   ]
  },
  {
   "cell_type": "markdown",
   "metadata": {},
   "source": [
    "I'm gonna use Convolutional Neural Networks. I'm gonna start with very easy networks and then try different architectures."
   ]
  },
  {
   "cell_type": "code",
   "execution_count": null,
   "metadata": {},
   "outputs": [],
   "source": [
    "from keras.layers import Conv2D, Activation, Input, concatenate\n",
    "from keras.layers.normalization import BatchNormalization\n",
    "from keras import backend as K\n",
    "K.set_image_data_format('channels_first')"
   ]
  },
  {
   "cell_type": "code",
   "execution_count": null,
   "metadata": {},
   "outputs": [],
   "source": [
    "# Architecture 1: CNN - HL - output HL"
   ]
  },
  {
   "cell_type": "code",
   "execution_count": null,
   "metadata": {},
   "outputs": [],
   "source": [
    "#                  width height\n",
    "X_input = Input((3, 640, 480))\n",
    "X = Conv2D(16, (320, 240), strides = (1, 1), padding = 'valid', name = 'conv1')(X)\n",
    "X = BatchNormalization(axis = 1, name = 'bn1')(X)\n",
    "X = Activation('relu')(X)\n"
   ]
  }
 ],
 "metadata": {
  "kernelspec": {
   "display_name": "Python [intro]",
   "language": "python",
   "name": "Python [intro]"
  },
  "language_info": {
   "codemirror_mode": {
    "name": "ipython",
    "version": 3
   },
   "file_extension": ".py",
   "mimetype": "text/x-python",
   "name": "python",
   "nbconvert_exporter": "python",
   "pygments_lexer": "ipython3",
   "version": "3.5.4"
  }
 },
 "nbformat": 4,
 "nbformat_minor": 2
}
